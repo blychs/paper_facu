{
 "cells": [
  {
   "cell_type": "code",
   "execution_count": null,
   "metadata": {},
   "outputs": [],
   "source": [
    "import numpy as np\n",
    "from scipy import stats\n",
    "import matplotlib.pyplot as plt\n",
    "import pandas as pd\n",
    "from pandas.api.types import is_numeric_dtype\n",
    "import xarray as xr"
   ]
  },
  {
   "cell_type": "code",
   "execution_count": null,
   "metadata": {},
   "outputs": [],
   "source": [
    "def corr_matrix(df, minimum=-1, maximum=1):\n",
    "    return df.corr().where(df.corr() >= minimum).where(df.corr() <= maximum)"
   ]
  },
  {
   "cell_type": "code",
   "execution_count": null,
   "metadata": {},
   "outputs": [],
   "source": [
    "def graph_all_corr(df):\n",
    "    for i in df:\n",
    "        if is_numeric_dtype(df[i]):\n",
    "            for j in df:\n",
    "                if is_numeric_dtype(df[j]):\n",
    "                    idx = np.isfinite(df[i]) & np.isfinite(df[j])\n",
    "                    coef = np.polyfit(df[i][idx],df[j][idx],1)\n",
    "                    print(str(coef[0]), 'x +', str(coef[1]))\n",
    "                    poly1d_fn = np.poly1d(coef)\n",
    "                    correlation_fig = plt.plot(df[i],df[j], 'yo', df[i], poly1d_fn(df[i]), 'k')\n",
    "                    plt.legend(iter(correlation_fig), ('Values', 'Linear fit'))\n",
    "                    #plt.plot(df[i], df[i], 'r--')\n",
    "                    plt.xlabel(i)\n",
    "                    plt.ylabel(j)\n",
    "                    plt.savefig('corr_' + i + '_' + j + '.png')\n",
    "                    plt.show()"
   ]
  }
 ],
 "metadata": {
  "kernelspec": {
   "display_name": "Python 3",
   "language": "python",
   "name": "python3"
  },
  "language_info": {
   "codemirror_mode": {
    "name": "ipython",
    "version": 3
   },
   "file_extension": ".py",
   "mimetype": "text/x-python",
   "name": "python",
   "nbconvert_exporter": "python",
   "pygments_lexer": "ipython3",
   "version": "3.7.6"
  }
 },
 "nbformat": 4,
 "nbformat_minor": 4
}
